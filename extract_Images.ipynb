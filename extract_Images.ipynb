{
  "nbformat": 4,
  "nbformat_minor": 0,
  "metadata": {
    "colab": {
      "provenance": [],
      "gpuType": "T4"
    },
    "kernelspec": {
      "name": "python3",
      "display_name": "Python 3"
    },
    "language_info": {
      "name": "python"
    },
    "accelerator": "GPU"
  },
  "cells": [
    {
      "cell_type": "code",
      "execution_count": null,
      "metadata": {
        "colab": {
          "base_uri": "https://localhost:8080/"
        },
        "id": "SBDMB98-ubbJ",
        "outputId": "99b38911-cce2-4bf3-a5db-4a901aba714a"
      },
      "outputs": [
        {
          "output_type": "stream",
          "name": "stdout",
          "text": [
            "Requirement already satisfied: pymupdf in /usr/local/lib/python3.11/dist-packages (1.25.3)\n",
            "Requirement already satisfied: pdf2image in /usr/local/lib/python3.11/dist-packages (1.17.0)\n",
            "Requirement already satisfied: pytesseract in /usr/local/lib/python3.11/dist-packages (0.3.13)\n",
            "Requirement already satisfied: opencv-python in /usr/local/lib/python3.11/dist-packages (4.11.0.86)\n",
            "Requirement already satisfied: numpy in /usr/local/lib/python3.11/dist-packages (1.26.4)\n",
            "Requirement already satisfied: pillow in /usr/local/lib/python3.11/dist-packages (from pdf2image) (11.1.0)\n",
            "Requirement already satisfied: packaging>=21.3 in /usr/local/lib/python3.11/dist-packages (from pytesseract) (24.2)\n"
          ]
        }
      ],
      "source": [
        "pip install pymupdf pdf2image pytesseract opencv-python numpy\n"
      ]
    },
    {
      "cell_type": "code",
      "source": [
        "import torch\n",
        "\n",
        "# Vérifier si un GPU est disponible\n",
        "device = \"cuda\" if torch.cuda.is_available() else \"cpu\"\n",
        "print(f\"Using device: {device}\")"
      ],
      "metadata": {
        "colab": {
          "base_uri": "https://localhost:8080/"
        },
        "id": "f5kmPylxy9kH",
        "outputId": "93cbc3c9-770f-4d91-8d2a-6f46a9253a6a"
      },
      "execution_count": null,
      "outputs": [
        {
          "output_type": "stream",
          "name": "stdout",
          "text": [
            "Using device: cuda\n"
          ]
        }
      ]
    },
    {
      "cell_type": "code",
      "source": [
        "import fitz  # PyMuPDF\n",
        "\n",
        "pdf_path = \"due2.pdf\"  # Path to your PDF\n",
        "output_folder = \"\"  # Folder to save extracted images\n",
        "\n",
        "# Open the PDF\n",
        "doc = fitz.open(pdf_path)\n",
        "\n",
        "# Loop through pages and extract images\n",
        "for page_number in range(len(doc)):\n",
        "    for img_index, img in enumerate(doc[page_number].get_images(full=True)):\n",
        "        xref = img[0]\n",
        "        base_image = doc.extract_image(xref)\n",
        "        image_bytes = base_image[\"image\"]\n",
        "        img_ext = base_image[\"ext\"]\n",
        "\n",
        "        # Save image\n",
        "        img_filename = f\"{output_folder}extracted_image_{page_number+1}_{img_index+1}.{img_ext}\"\n",
        "        with open(img_filename, \"wb\") as f:\n",
        "            f.write(image_bytes)\n",
        "\n",
        "print(\"Image extraction completed.\")\n"
      ],
      "metadata": {
        "colab": {
          "base_uri": "https://localhost:8080/"
        },
        "id": "3Gy8eCiiujaU",
        "outputId": "bb19e5c4-bca0-4ad9-f68d-1883e49a958c"
      },
      "execution_count": null,
      "outputs": [
        {
          "output_type": "stream",
          "name": "stdout",
          "text": [
            "Image extraction completed.\n"
          ]
        }
      ]
    },
    {
      "cell_type": "code",
      "source": [
        "import os\n",
        "import zipfile\n",
        "\n",
        "output_folder = \"./\"  # Change this if needed\n",
        "zip_filename = \"extracted_images2.zip\"\n",
        "\n",
        "# Get all extracted images\n",
        "extracted_images = [f for f in os.listdir(output_folder) if f.startswith(\"extracted_image\")]\n",
        "\n",
        "# Create a ZIP file\n",
        "with zipfile.ZipFile(zip_filename, 'w') as zipf:\n",
        "    for img in extracted_images:\n",
        "        zipf.write(os.path.join(output_folder, img), img)\n",
        "\n",
        "print(f\"Created ZIP file: {zip_filename}\")\n"
      ],
      "metadata": {
        "colab": {
          "base_uri": "https://localhost:8080/"
        },
        "id": "j0eezwbKvL4Z",
        "outputId": "e0f424e0-ac35-45b3-ae04-f5f704f1b451"
      },
      "execution_count": null,
      "outputs": [
        {
          "output_type": "stream",
          "name": "stdout",
          "text": [
            "Created ZIP file: extracted_images2.zip\n"
          ]
        }
      ]
    }
  ]
}